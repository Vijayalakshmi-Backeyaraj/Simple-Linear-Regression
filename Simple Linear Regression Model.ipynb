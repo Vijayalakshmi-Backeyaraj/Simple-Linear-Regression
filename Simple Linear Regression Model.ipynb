{
 "cells": [
  {
   "cell_type": "markdown",
   "metadata": {},
   "source": [
    "# Simple Linear Regression using numpy"
   ]
  },
  {
   "cell_type": "markdown",
   "metadata": {},
   "source": [
    "### Import the relevant libraries"
   ]
  },
  {
   "cell_type": "code",
   "execution_count": 1,
   "metadata": {},
   "outputs": [
    {
     "name": "stdout",
     "output_type": "stream",
     "text": [
      "3.8.5\n"
     ]
    }
   ],
   "source": [
    "#import the relevant libraries.\n",
    "import numpy as np  \n",
    "import matplotlib.pyplot as plt\n",
    "from platform import python_version\n",
    "print(python_version())"
   ]
  },
  {
   "cell_type": "markdown",
   "metadata": {},
   "source": [
    "### Generate random input data to train on"
   ]
  },
  {
   "cell_type": "code",
   "execution_count": 2,
   "metadata": {
    "scrolled": false
   },
   "outputs": [
    {
     "name": "stdout",
     "output_type": "stream",
     "text": [
      "(1000, 2)\n"
     ]
    }
   ],
   "source": [
    "# declare a variable containing the size of the training set we want to generate.\n",
    "observations = 1000\n",
    "\n",
    "# We will work with two variables as inputs x and z.\n",
    "# We generate them randomly, drawing from an uniform distribution. There are 3 arguments of this method (low, high, size).\n",
    "# The size of xs and zs is observations divided by 1. In this case: 1000 x 1.\n",
    "xs = np.random.uniform(low=-10, high=10, size=(observations,1))\n",
    "zs = np.random.uniform(-10, 10, (observations,1))\n",
    "\n",
    "# Combine the two dimensions of the input into one input matrix of size(1000,2). \n",
    "# This is the X matrix from the linear model y = x*w1 + z*w2 + b.\n",
    "# column_stack is a Numpy method, which combines two vectors(here,input vectors) into a matrix.\n",
    "inputs = np.column_stack((xs,zs))\n",
    "\n",
    "# Size of input matrix should be n x k, where n is the number of observations, and k is the number of variables, so 1000 x 2.\n",
    "print (inputs.shape)"
   ]
  },
  {
   "cell_type": "markdown",
   "metadata": {},
   "source": [
    "### Generate the targets to aim at"
   ]
  },
  {
   "cell_type": "code",
   "execution_count": 3,
   "metadata": {},
   "outputs": [
    {
     "name": "stdout",
     "output_type": "stream",
     "text": [
      "(1000, 1)\n"
     ]
    }
   ],
   "source": [
    "# We want to \"make up\" a function, use the ML methodology, and see if the algorithm has learned it.\n",
    "# A small random noise is added to the function i.e. f(x,z) = 2x - 3z + 5 + <small noise>\n",
    "# Real datasets do have noises.\n",
    "noise = np.random.uniform(-1, 1, (observations,1))\n",
    "\n",
    "# Produce the targets according to the f(x,z) = 2x - 3z + 5 + noise .\n",
    "# In this way, the weights should be 2 and -3, while the bias is 5.\n",
    "targets = 2*xs - 3*zs + 5 + noise\n",
    "\n",
    "# The shape of the targets should be n x m, where m is the number of output variables, so 1000 x 1.\n",
    "print (targets.shape)"
   ]
  },
  {
   "cell_type": "markdown",
   "metadata": {},
   "source": [
    "### Initialize weights and biases"
   ]
  },
  {
   "cell_type": "code",
   "execution_count": 4,
   "metadata": {},
   "outputs": [
    {
     "name": "stdout",
     "output_type": "stream",
     "text": [
      "[[0.08076164]\n",
      " [0.02481376]]\n",
      "[-0.02652211]\n"
     ]
    }
   ],
   "source": [
    "# Initializing the weights and biases randomly in some small initial range.\n",
    "# High initial ranges may prevent the machine learning algorithm from learning.\n",
    "init_range = 0.1\n",
    "\n",
    "# Weights are of size k x m, where k is the number of input variables and m is the number of output variables\n",
    "weights = np.random.uniform(low=-init_range, high=init_range, size=(2, 1))\n",
    "\n",
    "# Biases are of size 1 since there is only 1 output. The bias is a scalar.\n",
    "biases = np.random.uniform(low=-init_range, high=init_range, size=1)\n",
    "\n",
    "#Print the weights to get a sense of how they were initialized.\n",
    "print (weights)\n",
    "print (biases)"
   ]
  },
  {
   "cell_type": "markdown",
   "metadata": {},
   "source": [
    "### Set a learning rate"
   ]
  },
  {
   "cell_type": "code",
   "execution_count": 5,
   "metadata": {},
   "outputs": [],
   "source": [
    "# Set some small learning rate. \n",
    "learning_rate = 0.02"
   ]
  },
  {
   "cell_type": "markdown",
   "metadata": {},
   "source": [
    "### Train the model"
   ]
  },
  {
   "cell_type": "code",
   "execution_count": 6,
   "metadata": {
    "scrolled": true
   },
   "outputs": [
    {
     "name": "stdout",
     "output_type": "stream",
     "text": [
      "230.55175303840124\n",
      "35.39575428516467\n",
      "14.213772557940082\n",
      "11.54651532154471\n",
      "10.870434098753647\n",
      "10.42286842356647\n",
      "10.014657802795499\n",
      "9.62492275721174\n",
      "9.25085408259661\n",
      "8.891608014159138\n",
      "8.546574056247817\n",
      "8.215187457872183\n",
      "7.8969081439077184\n",
      "7.591217654343766\n",
      "7.297618063249291\n",
      "7.0156311420304025\n",
      "6.744797577673858\n",
      "6.48467622429267\n",
      "6.234843384534644\n",
      "5.994892119441442\n",
      "5.764431585607713\n",
      "5.543086398557766\n",
      "5.330496021302439\n",
      "5.126314177080257\n",
      "4.930208285326275\n",
      "4.741858919949903\n",
      "4.560959289039345\n",
      "4.387214735145132\n",
      "4.220342255328819\n",
      "4.0600700401951055\n",
      "3.906137031156446\n",
      "3.758292495209109\n",
      "3.6162956165279794\n",
      "3.479915104214928\n",
      "3.3489288155617905\n",
      "3.22312339421436\n",
      "3.1022939226479376\n",
      "2.9862435883884837\n",
      "2.8747833634356055\n",
      "2.7677316963652525\n",
      "2.6649142166105992\n",
      "2.566163450439429\n",
      "2.4713185481653848\n",
      "2.3802250221487857\n",
      "2.2927344951602016\n",
      "2.208704458696957\n",
      "2.1279980408588823\n",
      "2.050483783405203\n",
      "1.976035427629454\n",
      "1.9045317087036213\n",
      "1.8358561581565427\n",
      "1.7698969141648186\n",
      "1.706546539347262\n",
      "1.6457018457660462\n",
      "1.5872637268495657\n",
      "1.5311369959631953\n",
      "1.4772302313650127\n",
      "1.4254556272939702\n",
      "1.3757288509479186\n",
      "1.3279689051185428\n",
      "1.2820979962594774\n",
      "1.238041407772677\n",
      "1.1957273783066633\n",
      "1.1550869848684142\n",
      "1.1160540305584896\n",
      "1.0785649367465504\n",
      "1.0425586395116233\n",
      "1.0079764901784514\n",
      "0.9747621597878828\n",
      "0.9428615473457408\n",
      "0.912222691700684\n",
      "0.8827956869075597\n",
      "0.8545326009383434\n",
      "0.8273873976083096\n",
      "0.8013158615902157\n",
      "0.7762755263943951\n",
      "0.7522256051974263\n",
      "0.7291269244067271\n",
      "0.7069418598528403\n",
      "0.6856342755054998\n",
      "0.6651694646136391\n",
      "0.6455140931734743\n",
      "0.6266361456325803\n",
      "0.6085048727415208\n",
      "0.591090741468093\n",
      "0.5743653868925874\n",
      "0.558301566005741\n",
      "0.5428731133340964\n",
      "0.5280548983204983\n",
      "0.5138227843903215\n",
      "0.5001535896367236\n",
      "0.4870250490609211\n",
      "0.47441577830595366\n",
      "0.46230523882488417\n",
      "0.45067370442669097\n",
      "0.43950222914535847\n",
      "0.4287726163798405\n",
      "0.41846738925461646\n",
      "0.4085697621525695\n",
      "0.39906361337382085\n"
     ]
    }
   ],
   "source": [
    "# Iterate over our training dataset 100 times.\n",
    "# a lower learning rate would need more iterations, while a higher learning rate would need less iterations\n",
    "# a high learning rate may cause the loss to diverge to infinity, instead of converge to 0.\n",
    "for i in range (100):\n",
    "    \n",
    "    # This is the linear model: y = xw + b equation\n",
    "    outputs = np.dot(inputs,weights) + biases\n",
    "    # The deltas are the differences between the outputs and the targets\n",
    "    # deltas here is a vector 1000 x 1\n",
    "    deltas = outputs - targets\n",
    "        \n",
    "    # We are considering the L2-norm loss, but divided by 2.\n",
    "    # Moreover, we further divide it by the number of observations.\n",
    "    # This is simple rescaling by a constant. This doesn't change the optimization logic.\n",
    "    loss = np.sum(deltas ** 2) / 2 / observations\n",
    "    \n",
    "    # Print the loss function value at each step to observe whether it is decreasing as desired.\n",
    "    print (loss)\n",
    "    \n",
    "    # Scale the deltas the same way as the loss function.\n",
    "    # In this way the learning rate is independent of the number of samples (observations).\n",
    "    # Again, this doesn't change anything in principle, it simply makes it easier to pick a single learning rate.\n",
    "    # that can remain the same if we change the number of training samples (observations).\n",
    "    deltas_scaled = deltas / observations\n",
    "    \n",
    "    # Finally, apply the gradient descent update rules.\n",
    "    # The weights are 2x1, learning rate is 1x1 (scalar), inputs are 1000x2, and deltas_scaled are 1000x1\n",
    "    # We must transpose the inputs so as to get an allowed operation.\n",
    "    weights = weights - learning_rate * np.dot(inputs.T,deltas_scaled)\n",
    "    biases = biases - learning_rate * np.sum(deltas_scaled)\n",
    "    \n",
    "    # The weights and biases are updated. "
   ]
  },
  {
   "cell_type": "markdown",
   "metadata": {},
   "source": [
    "### Print weights and biases and see if it worked correctly."
   ]
  },
  {
   "cell_type": "code",
   "execution_count": 7,
   "metadata": {},
   "outputs": [
    {
     "name": "stdout",
     "output_type": "stream",
     "text": [
      "[[ 1.99487654]\n",
      " [-3.00053336]] [4.33218376]\n"
     ]
    }
   ],
   "source": [
    "# Print the weights and the biases to see if they have converged to what we wanted.\n",
    "# When declared the targets, following the f(x,z), we knew the weights should be 2 and -3, while the bias: 5.\n",
    "print (weights, biases)\n",
    "\n",
    "# Note that they may be convergING. So more iterations are needed."
   ]
  },
  {
   "cell_type": "markdown",
   "metadata": {},
   "source": [
    "### Plot last outputs vs targets\n",
    "Since they are the last ones at the end of the training, they represent the final model accuracy. <br/>\n",
    "The closer this plot is to a 45 degree line, the closer target and output values are."
   ]
  },
  {
   "cell_type": "code",
   "execution_count": 8,
   "metadata": {},
   "outputs": [
    {
     "data": {
      "image/png": "[encoded data removed]",
      "text/plain": [
       "<Figure size 432x288 with 1 Axes>"
      ]
     },
     "metadata": {
      "needs_background": "light"
     },
     "output_type": "display_data"
    }
   ],
   "source": [
    "# Print the outputs and the targets in order to see if they have a linear relationship.\n",
    "\n",
    "plt.plot(outputs,targets)\n",
    "plt.xlabel('outputs')\n",
    "plt.ylabel('targets')\n",
    "plt.show()"
   ]
  }
 ],
 "metadata": {
  "anaconda-cloud": {},
  "kernelspec": {
   "display_name": "Python 3",
   "language": "python",
   "name": "python3"
  },
  "language_info": {
   "codemirror_mode": {
    "name": "ipython",
    "version": 3
   },
   "file_extension": ".py",
   "mimetype": "text/x-python",
   "name": "python",
   "nbconvert_exporter": "python",
   "pygments_lexer": "ipython3",
   "version": "3.8.5"
  }
 },
 "nbformat": 4,
 "nbformat_minor": 1
}
